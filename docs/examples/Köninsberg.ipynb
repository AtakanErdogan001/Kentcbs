{
 "cells": [
  {
   "cell_type": "code",
   "execution_count": 2,
   "metadata": {},
   "outputs": [],
   "source": [
    "BRIDGES = [\n",
    "    \"AaB\",\n",
    "    \"AbB\",\n",
    "    \"AcC\",\n",
    "    \"AdC\",\n",
    "    \"AeD\",\n",
    "    \"BfD\",\n",
    "    \"CgD\",\n",
    "]"
   ]
  },
  {
   "cell_type": "code",
   "execution_count": 19,
   "metadata": {},
   "outputs": [],
   "source": [
    "def get_walks_starting_from(area, bridges=BRIDGES):\n",
    "    walks = []\n",
    "\n",
    "    def make_walks(area, walked=None, bridges_crossed=None):\n",
    "        walked = walked or area\n",
    "        bridges_crossed = bridges_crossed or ()\n",
    "        # get all of the bridges connected to 'area'\n",
    "        # that haven't been crossed yet\n",
    "        available_bridges = [\n",
    "            bridge \n",
    "            for bridge in bridges \n",
    "            if area in bridge and bridge not in bridges_crossed\n",
    "        ]\n",
    "        \n",
    "        # Determine if the walk has ended\n",
    "        if not available_bridges:\n",
    "            walks.append(walked)\n",
    "        \n",
    "        for bridge in available_bridges:\n",
    "            crossing = bridge[1:] if bridge[0] == area else bridge[1::-1]\n",
    "            make_walks(\n",
    "                area=crossing[-1], \n",
    "                walked=walked + crossing,\n",
    "                bridges_crossed=(bridge, *bridges_crossed),\n",
    "            )\n",
    "    make_walks(area)\n",
    "    return walks"
   ]
  },
  {
   "cell_type": "code",
   "execution_count": 20,
   "metadata": {},
   "outputs": [
    {
     "name": "stdout",
     "output_type": "stream",
     "text": [
      "372\n"
     ]
    }
   ],
   "source": [
    "\n",
    "walks_starting_from = {area: get_walks_starting_from(area, BRIDGES) for area in \"ABCD\"}\n",
    "num_total_walks = sum(len(walks) for walks in walks_starting_from.values())\n",
    "print(num_total_walks)"
   ]
  },
  {
   "cell_type": "code",
   "execution_count": 16,
   "metadata": {},
   "outputs": [
    {
     "data": {
      "text/plain": [
       "['AaBb', 'AaBfDe', 'AaBfDg']"
      ]
     },
     "execution_count": 16,
     "metadata": {},
     "output_type": "execute_result"
    }
   ],
   "source": [
    "walks_starting_from[\"A\"][:3]"
   ]
  },
  {
   "cell_type": "code",
   "execution_count": null,
   "metadata": {},
   "outputs": [],
   "source": [
    "from collections import namedtuple\n",
    "\n",
    "Graph = namedtuple(\"Graph\", [\"nodes\", \"edges\"])\n",
    "\n"
   ]
  }
 ],
 "metadata": {
  "kernelspec": {
   "display_name": "kentcbs",
   "language": "python",
   "name": "python3"
  },
  "language_info": {
   "codemirror_mode": {
    "name": "ipython",
    "version": 3
   },
   "file_extension": ".py",
   "mimetype": "text/x-python",
   "name": "python",
   "nbconvert_exporter": "python",
   "pygments_lexer": "ipython3",
   "version": "3.11.7"
  }
 },
 "nbformat": 4,
 "nbformat_minor": 2
}
