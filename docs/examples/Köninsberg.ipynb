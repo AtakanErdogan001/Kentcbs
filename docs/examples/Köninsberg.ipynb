{
 "cells": [
  {
   "cell_type": "code",
   "execution_count": 4,
   "metadata": {},
   "outputs": [
    {
     "name": "stdout",
     "output_type": "stream",
     "text": [
      "Requirement already satisfied: kentcbs in c:\\users\\baleo\\anaconda3\\envs\\kentcbs\\lib\\site-packages (0.0.1)\n",
      "Requirement already satisfied: numpy in c:\\users\\baleo\\appdata\\roaming\\python\\python311\\site-packages (from kentcbs) (1.24.3)\n",
      "Note: you may need to restart the kernel to use updated packages.\n"
     ]
    }
   ],
   "source": [
    "%pip install kentcbs\n",
    "import kentcbs"
   ]
  },
  {
   "cell_type": "code",
   "execution_count": 5,
   "metadata": {},
   "outputs": [],
   "source": [
    "BRIDGES = [\n",
    "    \"AaB\",\n",
    "    \"AbB\",\n",
    "    \"AcC\",\n",
    "    \"AdC\",\n",
    "    \"AeD\",\n",
    "    \"BfD\",\n",
    "    \"CgD\",\n",
    "]"
   ]
  },
  {
   "cell_type": "code",
   "execution_count": 6,
   "metadata": {},
   "outputs": [
    {
     "ename": "AttributeError",
     "evalue": "module 'kentcbs' has no attribute 'get_walks_starting_from'",
     "output_type": "error",
     "traceback": [
      "\u001b[1;31m---------------------------------------------------------------------------\u001b[0m",
      "\u001b[1;31mAttributeError\u001b[0m                            Traceback (most recent call last)",
      "Cell \u001b[1;32mIn[6], line 1\u001b[0m\n\u001b[1;32m----> 1\u001b[0m walks_starting_from \u001b[38;5;241m=\u001b[39m \u001b[43m{\u001b[49m\u001b[43marea\u001b[49m\u001b[43m:\u001b[49m\u001b[43m \u001b[49m\u001b[43mkentcbs\u001b[49m\u001b[38;5;241;43m.\u001b[39;49m\u001b[43mget_walks_starting_from\u001b[49m\u001b[43m(\u001b[49m\u001b[43marea\u001b[49m\u001b[43m)\u001b[49m\u001b[43m \u001b[49m\u001b[38;5;28;43;01mfor\u001b[39;49;00m\u001b[43m \u001b[49m\u001b[43marea\u001b[49m\u001b[43m \u001b[49m\u001b[38;5;129;43;01min\u001b[39;49;00m\u001b[43m \u001b[49m\u001b[38;5;124;43m\"\u001b[39;49m\u001b[38;5;124;43mABCD\u001b[39;49m\u001b[38;5;124;43m\"\u001b[39;49m\u001b[43m}\u001b[49m\n\u001b[0;32m      2\u001b[0m num_total_walks \u001b[38;5;241m=\u001b[39m \u001b[38;5;28msum\u001b[39m(\u001b[38;5;28mlen\u001b[39m(walks) \u001b[38;5;28;01mfor\u001b[39;00m walks \u001b[38;5;129;01min\u001b[39;00m walks_starting_from\u001b[38;5;241m.\u001b[39mvalues())\n\u001b[0;32m      3\u001b[0m \u001b[38;5;28mprint\u001b[39m(num_total_walks)\n",
      "Cell \u001b[1;32mIn[6], line 1\u001b[0m, in \u001b[0;36m<dictcomp>\u001b[1;34m(.0)\u001b[0m\n\u001b[1;32m----> 1\u001b[0m walks_starting_from \u001b[38;5;241m=\u001b[39m {area: \u001b[43mkentcbs\u001b[49m\u001b[38;5;241;43m.\u001b[39;49m\u001b[43mget_walks_starting_from\u001b[49m(area) \u001b[38;5;28;01mfor\u001b[39;00m area \u001b[38;5;129;01min\u001b[39;00m \u001b[38;5;124m\"\u001b[39m\u001b[38;5;124mABCD\u001b[39m\u001b[38;5;124m\"\u001b[39m}\n\u001b[0;32m      2\u001b[0m num_total_walks \u001b[38;5;241m=\u001b[39m \u001b[38;5;28msum\u001b[39m(\u001b[38;5;28mlen\u001b[39m(walks) \u001b[38;5;28;01mfor\u001b[39;00m walks \u001b[38;5;129;01min\u001b[39;00m walks_starting_from\u001b[38;5;241m.\u001b[39mvalues())\n\u001b[0;32m      3\u001b[0m \u001b[38;5;28mprint\u001b[39m(num_total_walks)\n",
      "\u001b[1;31mAttributeError\u001b[0m: module 'kentcbs' has no attribute 'get_walks_starting_from'"
     ]
    }
   ],
   "source": [
    "\n",
    "walks_starting_from = {area: kentcbs.get_walks_starting_from(area) for area in \"ABCD\"}\n",
    "num_total_walks = sum(len(walks) for walks in walks_starting_from.values())\n",
    "print(num_total_walks)"
   ]
  },
  {
   "cell_type": "code",
   "execution_count": null,
   "metadata": {},
   "outputs": [],
   "source": []
  }
 ],
 "metadata": {
  "kernelspec": {
   "display_name": "kentcbs",
   "language": "python",
   "name": "python3"
  },
  "language_info": {
   "codemirror_mode": {
    "name": "ipython",
    "version": 3
   },
   "file_extension": ".py",
   "mimetype": "text/x-python",
   "name": "python",
   "nbconvert_exporter": "python",
   "pygments_lexer": "ipython3",
   "version": "3.11.7"
  }
 },
 "nbformat": 4,
 "nbformat_minor": 2
}
